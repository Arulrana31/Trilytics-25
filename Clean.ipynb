{
 "cells": [
  {
   "metadata": {
    "ExecuteTime": {
     "end_time": "2025-07-25T15:11:48.101246Z",
     "start_time": "2025-07-25T15:11:48.098683Z"
    }
   },
   "cell_type": "code",
   "source": [
    "import pandas as pd\n",
    "import numpy as np\n",
    "import matplotlib.pyplot as plt\n",
    "import seaborn as sns\n",
    "from sklearn.model_selection import train_test_split\n",
    "from sklearn.preprocessing import StandardScaler\n",
    "from sklearn.metrics import accuracy_score, classification_report, confusion_matrix\n",
    "\n",
    "\n",
    "from sklearn.ensemble import RandomForestRegressor\n",
    "from sklearn.experimental import enable_iterative_imputer\n",
    "from sklearn.impute import IterativeImputer\n"
   ],
   "id": "76e6ed7db81992a1",
   "outputs": [],
   "execution_count": 62
  },
  {
   "metadata": {
    "ExecuteTime": {
     "end_time": "2025-07-25T15:12:15.275869Z",
     "start_time": "2025-07-25T15:11:50.489218Z"
    }
   },
   "cell_type": "code",
   "source": [
    "df_train = pd.read_excel('LTF Challenge data with dictionary.xlsx', sheet_name='TrainData')\n",
    "df_test = pd.read_excel('LTF Challenge data with dictionary.xlsx', sheet_name='TestData')\n",
    "\n",
    "\n",
    "print(\"Original shapes:\")\n",
    "print(\"Train:\", df_train.shape)\n",
    "print(\"Test:\", df_test.shape)"
   ],
   "id": "647af5e2dc3ca801",
   "outputs": [
    {
     "name": "stdout",
     "output_type": "stream",
     "text": [
      "Original shapes:\n",
      "Train: (47970, 105)\n",
      "Test: (9986, 105)\n"
     ]
    }
   ],
   "execution_count": 63
  },
  {
   "metadata": {
    "ExecuteTime": {
     "end_time": "2025-07-25T15:12:18.288114Z",
     "start_time": "2025-07-25T15:12:18.234077Z"
    }
   },
   "cell_type": "code",
   "source": [
    "# Calculate missing values percentage\n",
    "missing_train = pd.DataFrame({\n",
    "    'Column': df_train.columns,\n",
    "    'Missing %': (df_train.isnull().sum() / len(df_train) * 100).round(2)\n",
    "}).sort_values('Missing %', ascending=False)\n",
    "\n",
    "missing_test = pd.DataFrame({\n",
    "    'Column': df_test.columns,\n",
    "    'Missing %': (df_test.isnull().sum() / len(df_test) * 100).round(2)\n",
    "}).sort_values('Missing %', ascending=False)\n"
   ],
   "id": "ad1afab1735898db",
   "outputs": [],
   "execution_count": 64
  },
  {
   "metadata": {},
   "cell_type": "markdown",
   "source": [
    "Looking at the code, the issue is that you're trying to use `missing_train_filtered` and `missing_test_filtered` dataframes, but these haven't been created yet. You need to use `missing_train` and `missing_test` which were created in the previous cell.\n",
    "\n"
   ],
   "id": "40f5ce26b64561ad"
  },
  {
   "metadata": {
    "ExecuteTime": {
     "end_time": "2025-07-25T15:13:54.724013Z",
     "start_time": "2025-07-25T15:13:54.718128Z"
    }
   },
   "cell_type": "code",
   "source": [
    "print(\"Train Data Missing Values:\")\n",
    "for _, row in missing_train.iterrows():\n",
    "    if row['Missing %'] > 0:\n",
    "        print(f\"{row['Column']}: {row['Missing %']}%\")\n",
    "\n",
    "print(\"\\nTest Data Missing Values:\")\n",
    "for _, row in missing_test.iterrows():\n",
    "    if row['Missing %'] > 0:\n",
    "        print(f\"{row['Column']}: {row['Missing %']}%\")\n"
   ],
   "id": "ca433b47159b88a6",
   "outputs": [
    {
     "name": "stdout",
     "output_type": "stream",
     "text": [
      "Train Data Missing Values:\n",
      "Avg_Disbursement_Amount_Bureau: 43.34%\n",
      "Address type: 35.5%\n",
      "Ownership: 35.5%\n",
      "Location: 35.5%\n",
      "mat_roof_Metal_GI_Asbestos_sheets: 0.35%\n",
      "perc_Households_do_not_have_KCC_With_The_Credit_Limit_Of_50k: 0.35%\n",
      "Households_with_improved_Sanitation_Facility: 0.35%\n",
      "perc_of_Wall_material_with_Burnt_brick: 0.35%\n",
      "Perc_of_house_with_6plus_room: 0.35%\n",
      "perc_of_pop_living_in_hh_electricity: 0.35%\n",
      "Women_15_19_Mothers_or_Pregnant_at_time_of_survey: 0.35%\n",
      "perc_Households_with_Pucca_House_That_Has_More_Than_3_Rooms: 0.35%\n",
      "Total_Land_For_Agriculture: 0.15%\n",
      "\n",
      "Test Data Missing Values:\n",
      "Target_Variable/Total Income: 100.0%\n",
      "Avg_Disbursement_Amount_Bureau: 42.68%\n",
      "Address type: 35.74%\n",
      "Location: 35.74%\n",
      "Ownership: 35.74%\n",
      "perc_Households_do_not_have_KCC_With_The_Credit_Limit_Of_50k: 0.33%\n",
      "Households_with_improved_Sanitation_Facility: 0.33%\n",
      "perc_of_Wall_material_with_Burnt_brick: 0.33%\n",
      "mat_roof_Metal_GI_Asbestos_sheets: 0.33%\n",
      "perc_of_pop_living_in_hh_electricity: 0.33%\n",
      "Women_15_19_Mothers_or_Pregnant_at_time_of_survey: 0.33%\n",
      "perc_Households_with_Pucca_House_That_Has_More_Than_3_Rooms: 0.33%\n",
      "Perc_of_house_with_6plus_room: 0.33%\n",
      "Total_Land_For_Agriculture: 0.16%\n"
     ]
    }
   ],
   "execution_count": 68
  },
  {
   "metadata": {
    "ExecuteTime": {
     "end_time": "2025-07-25T15:14:13.468729Z",
     "start_time": "2025-07-25T15:14:13.455087Z"
    }
   },
   "cell_type": "code",
   "source": [
    "# Find numerical columns with missing data less than 1%\n",
    "numeric_cols = df_train.select_dtypes(include=['int64', 'float64']).columns\n",
    "low_missing_numeric = []\n",
    "\n",
    "for col in numeric_cols:\n",
    "    missing_pct = (df_train[col].isnull().sum() / len(df_train) * 100).round(2)\n",
    "    if missing_pct < 1 and missing_pct > 0:\n",
    "        low_missing_numeric.append((col, missing_pct))\n",
    "\n",
    "print(\"Numerical columns with less than 1% missing data:\")\n",
    "for col, pct in low_missing_numeric:\n",
    "    print(f\"{col}: {pct}%\")\n"
   ],
   "id": "84f80a9fd4a4cc71",
   "outputs": [
    {
     "name": "stdout",
     "output_type": "stream",
     "text": [
      "Numerical columns with less than 1% missing data:\n",
      "Total_Land_For_Agriculture: 0.15%\n",
      "Perc_of_house_with_6plus_room: 0.35%\n",
      "Women_15_19_Mothers_or_Pregnant_at_time_of_survey: 0.35%\n",
      "perc_of_pop_living_in_hh_electricity: 0.35%\n",
      "perc_Households_with_Pucca_House_That_Has_More_Than_3_Rooms: 0.35%\n",
      "mat_roof_Metal_GI_Asbestos_sheets: 0.35%\n",
      "perc_of_Wall_material_with_Burnt_brick: 0.35%\n",
      "Households_with_improved_Sanitation_Facility: 0.35%\n",
      "perc_Households_do_not_have_KCC_With_The_Credit_Limit_Of_50k: 0.35%\n"
     ]
    }
   ],
   "execution_count": 69
  },
  {
   "metadata": {
    "ExecuteTime": {
     "end_time": "2025-07-25T15:39:26.065826Z",
     "start_time": "2025-07-25T15:38:10.424692Z"
    }
   },
   "cell_type": "code",
   "source": [
    "# Create IterativeImputer with RandomForestRegressor\n",
    "rf_imputer = IterativeImputer(\n",
    "    estimator=RandomForestRegressor(n_estimators=100, random_state=42),\n",
    "    random_state=42,\n",
    "    max_iter=10\n",
    ")\n",
    "\n",
    "# Get columns from low_missing_numeric list\n",
    "columns_to_impute = [col for col, _ in low_missing_numeric]\n",
    "\n",
    "# Store original data and missing masks\n",
    "original_data = df_train[columns_to_impute].copy()\n",
    "missing_masks = df_train[columns_to_impute].isnull()\n",
    "\n",
    "# Impute missing values\n",
    "df_train[columns_to_impute] = rf_imputer.fit_transform(df_train[columns_to_impute])\n",
    "df_test[columns_to_impute] = rf_imputer.transform(df_test[columns_to_impute])\n",
    "\n",
    "# Calculate statistics for only the imputed values\n",
    "comparison = {}\n",
    "for col in columns_to_impute:\n",
    "    # Get values that were originally missing\n",
    "    imputed_values = df_train[col][missing_masks[col]]\n",
    "\n",
    "    comparison[col] = {\n",
    "        'Original Median (non-missing)': original_data[col].median(),\n",
    "        'Mean of Imputed Values': imputed_values.mean()\n",
    "    }\n",
    "\n",
    "# Create and display comparison DataFrame\n",
    "comparison_df = pd.DataFrame(comparison).T\n",
    "print(\"\\nComparison of original medians vs means of imputed values:\")\n",
    "print(comparison_df)\n",
    "\n",
    "# Verify imputation worked\n",
    "\n"
   ],
   "id": "228546635d549811",
   "outputs": [
    {
     "name": "stdout",
     "output_type": "stream",
     "text": [
      "\n",
      "Comparison of original medians vs means of imputed values:\n",
      "                                                    Original Median (non-missing)  \\\n",
      "Total_Land_For_Agriculture                                                 10.000   \n",
      "Perc_of_house_with_6plus_room                                               1.170   \n",
      "Women_15_19_Mothers_or_Pregnant_at_time_of_survey                           5.800   \n",
      "perc_of_pop_living_in_hh_electricity                                       98.945   \n",
      "perc_Households_with_Pucca_House_That_Has_More_...                          4.300   \n",
      "mat_roof_Metal_GI_Asbestos_sheets                                           8.250   \n",
      "perc_of_Wall_material_with_Burnt_brick                                     39.910   \n",
      "Households_with_improved_Sanitation_Facility                               71.300   \n",
      "perc_Households_do_not_have_KCC_With_The_Credit...                          1.750   \n",
      "\n",
      "                                                    Mean of Imputed Values  \n",
      "Total_Land_For_Agriculture                                             NaN  \n",
      "Perc_of_house_with_6plus_room                                          NaN  \n",
      "Women_15_19_Mothers_or_Pregnant_at_time_of_survey                      NaN  \n",
      "perc_of_pop_living_in_hh_electricity                                   NaN  \n",
      "perc_Households_with_Pucca_House_That_Has_More_...                     NaN  \n",
      "mat_roof_Metal_GI_Asbestos_sheets                                      NaN  \n",
      "perc_of_Wall_material_with_Burnt_brick                                 NaN  \n",
      "Households_with_improved_Sanitation_Facility                           NaN  \n",
      "perc_Households_do_not_have_KCC_With_The_Credit...                     NaN  \n",
      "\n",
      "Missing values after imputation:\n",
      "\n",
      "Train data:\n",
      "Total_Land_For_Agriculture                                      0\n",
      "Perc_of_house_with_6plus_room                                   0\n",
      "Women_15_19_Mothers_or_Pregnant_at_time_of_survey               0\n",
      "perc_of_pop_living_in_hh_electricity                            0\n",
      "perc_Households_with_Pucca_House_That_Has_More_Than_3_Rooms     0\n",
      "mat_roof_Metal_GI_Asbestos_sheets                               0\n",
      "perc_of_Wall_material_with_Burnt_brick                          0\n",
      "Households_with_improved_Sanitation_Facility                    0\n",
      "perc_Households_do_not_have_KCC_With_The_Credit_Limit_Of_50k    0\n",
      "dtype: int64\n",
      "\n",
      "Test data:\n",
      "Total_Land_For_Agriculture                                      0\n",
      "Perc_of_house_with_6plus_room                                   0\n",
      "Women_15_19_Mothers_or_Pregnant_at_time_of_survey               0\n",
      "perc_of_pop_living_in_hh_electricity                            0\n",
      "perc_Households_with_Pucca_House_That_Has_More_Than_3_Rooms     0\n",
      "mat_roof_Metal_GI_Asbestos_sheets                               0\n",
      "perc_of_Wall_material_with_Burnt_brick                          0\n",
      "Households_with_improved_Sanitation_Facility                    0\n",
      "perc_Households_do_not_have_KCC_With_The_Credit_Limit_Of_50k    0\n",
      "dtype: int64\n"
     ]
    }
   ],
   "execution_count": 72
  },
  {
   "metadata": {
    "ExecuteTime": {
     "end_time": "2025-07-25T16:18:59.129080Z",
     "start_time": "2025-07-25T16:18:59.120634Z"
    }
   },
   "cell_type": "code",
   "source": [
    "print(\"\\nMissing values after imputation:\")\n",
    "print(\"\\nTrain data:\")\n",
    "print(df_train[columns_to_impute].isnull().sum())\n",
    "print(\"\\nTest data:\")\n",
    "print(df_test[columns_to_impute].isnull().sum())"
   ],
   "id": "3576431602e0f601",
   "outputs": [
    {
     "name": "stdout",
     "output_type": "stream",
     "text": [
      "\n",
      "Missing values after imputation:\n",
      "\n",
      "Train data:\n",
      "Total_Land_For_Agriculture                                      0\n",
      "Perc_of_house_with_6plus_room                                   0\n",
      "Women_15_19_Mothers_or_Pregnant_at_time_of_survey               0\n",
      "perc_of_pop_living_in_hh_electricity                            0\n",
      "perc_Households_with_Pucca_House_That_Has_More_Than_3_Rooms     0\n",
      "mat_roof_Metal_GI_Asbestos_sheets                               0\n",
      "perc_of_Wall_material_with_Burnt_brick                          0\n",
      "Households_with_improved_Sanitation_Facility                    0\n",
      "perc_Households_do_not_have_KCC_With_The_Credit_Limit_Of_50k    0\n",
      "dtype: int64\n",
      "\n",
      "Test data:\n",
      "Total_Land_For_Agriculture                                      0\n",
      "Perc_of_house_with_6plus_room                                   0\n",
      "Women_15_19_Mothers_or_Pregnant_at_time_of_survey               0\n",
      "perc_of_pop_living_in_hh_electricity                            0\n",
      "perc_Households_with_Pucca_House_That_Has_More_Than_3_Rooms     0\n",
      "mat_roof_Metal_GI_Asbestos_sheets                               0\n",
      "perc_of_Wall_material_with_Burnt_brick                          0\n",
      "Households_with_improved_Sanitation_Facility                    0\n",
      "perc_Households_do_not_have_KCC_With_The_Credit_Limit_Of_50k    0\n",
      "dtype: int64\n"
     ]
    }
   ],
   "execution_count": 98
  },
  {
   "metadata": {
    "ExecuteTime": {
     "end_time": "2025-07-25T15:55:21.513812Z",
     "start_time": "2025-07-25T15:55:21.481094Z"
    }
   },
   "cell_type": "code",
   "source": [
    "df_train_locked = df_train.copy(deep=True)\n",
    "df_test_locked = df_test.copy(deep=True)"
   ],
   "id": "8c8cdb4262d9549f",
   "outputs": [],
   "execution_count": 83
  },
  {
   "metadata": {
    "ExecuteTime": {
     "end_time": "2025-07-25T15:41:13.037148Z",
     "start_time": "2025-07-25T15:41:12.974430Z"
    }
   },
   "cell_type": "code",
   "source": [
    "missing_train = pd.DataFrame({\n",
    "    'Column': df_train.columns,\n",
    "    'Missing %': (df_train.isnull().sum() / len(df_train) * 100).round(2)\n",
    "}).sort_values('Missing %', ascending=False)\n",
    "\n",
    "missing_test = pd.DataFrame({\n",
    "    'Column': df_test.columns,\n",
    "    'Missing %': (df_test.isnull().sum() / len(df_test) * 100).round(2)\n",
    "}).sort_values('Missing %', ascending=False)\n",
    "\n",
    "print(\"Train Data Missing Values:\")\n",
    "for _, row in missing_train.iterrows():\n",
    "    if row['Missing %'] > 0:\n",
    "        print(f\"{row['Column']}: {row['Missing %']}%\")\n",
    "\n",
    "print(\"\\nTest Data Missing Values:\")\n",
    "for _, row in missing_test.iterrows():\n",
    "    if row['Missing %'] > 0:\n",
    "        print(f\"{row['Column']}: {row['Missing %']}%\")"
   ],
   "id": "5846eac7de9a637",
   "outputs": [
    {
     "name": "stdout",
     "output_type": "stream",
     "text": [
      "Train Data Missing Values:\n",
      "Avg_Disbursement_Amount_Bureau: 43.34%\n",
      "Address type: 35.5%\n",
      "Ownership: 35.5%\n",
      "Location: 35.5%\n",
      "\n",
      "Test Data Missing Values:\n",
      "Target_Variable/Total Income: 100.0%\n",
      "Avg_Disbursement_Amount_Bureau: 42.68%\n",
      "Address type: 35.74%\n",
      "Location: 35.74%\n",
      "Ownership: 35.74%\n"
     ]
    }
   ],
   "execution_count": 73
  },
  {
   "metadata": {
    "ExecuteTime": {
     "end_time": "2025-07-25T16:01:09.373227Z",
     "start_time": "2025-07-25T16:01:09.360340Z"
    }
   },
   "cell_type": "code",
   "source": [
    "non_numeric_columns = df_train.select_dtypes(exclude=['int64', 'float64']).columns\n",
    "print(\"\\nNon-numeric columns in the dataset:\")\n",
    "for col in non_numeric_columns:\n",
    "    print(f\"- {col}\")"
   ],
   "id": "a818fe665f81d060",
   "outputs": [
    {
     "name": "stdout",
     "output_type": "stream",
     "text": [
      "\n",
      "Non-numeric columns in the dataset:\n",
      "- State\n",
      "- REGION\n",
      "- SEX\n",
      "- CITY\n",
      "- DISTRICT\n",
      "- VILLAGE\n",
      "- MARITAL_STATUS\n",
      "- Location\n",
      "- Address type\n",
      "- Ownership\n",
      "- K022-Village category based on Agri parameters (Good, Average, Poor)\n",
      "- K022-Nearest Mandi Name\n",
      "- K022-Village category based on socio-economic parameters (Good, Average, Poor)\n",
      "- K022-Ambient temperature (min & max)\n",
      "- R022-Village category based on Agri parameters (Good, Average, Poor)\n",
      "- R022-Ambient temperature (min & max)\n",
      "- K021-Ambient temperature (min & max)\n",
      "- R021-Ambient temperature (min & max)\n",
      "- R020-Ambient temperature (min & max)\n",
      "- Kharif Seasons  Type of soil in 2022\n",
      "- Kharif Seasons  Type of water bodies in hectares 2022\n",
      "- Kharif Seasons  Agro Ecological Sub Zone in 2022\n",
      "- Rabi Seasons Type of soil in 2022\n",
      "- Rabi Seasons Type of water bodies in hectares 2022\n",
      "- Rabi Seasons Agro Ecological Sub Zone in 2022\n",
      "- Rabi Seasons Type of soil in 2021\n",
      "- Rabi Seasons Type of water bodies in hectares 2021\n",
      "- Rabi Seasons Agro Ecological Sub Zone in 2021\n",
      "- Kharif Seasons Type of soil in 2021\n",
      "- Kharif Seasons Type of water bodies in hectares 2021\n",
      "- Kharif Seasons Agro Ecological Sub Zone in 2021\n",
      "- Kharif Seasons Type of soil in 2020\n",
      "- Kharif Seasons Type of water bodies in hectares 2020\n",
      "- Kharif Seasons Agro Ecological Sub Zone in 2020\n",
      "- Rabi Seasons Type of soil in 2020\n",
      "- Rabi Seasons Type of water bodies in hectares 2020\n",
      "- Rabi Seasons Agro Ecological Sub Zone in 2020\n",
      "-  Village category based on socio-economic parameters (Good, Average, Poor)\n"
     ]
    }
   ],
   "execution_count": 89
  },
  {
   "metadata": {
    "ExecuteTime": {
     "end_time": "2025-07-25T16:03:13.455695Z",
     "start_time": "2025-07-25T16:03:13.453952Z"
    }
   },
   "cell_type": "code",
   "source": "",
   "id": "b62aab95e2110494",
   "outputs": [],
   "execution_count": null
  },
  {
   "metadata": {
    "ExecuteTime": {
     "end_time": "2025-07-25T16:02:27.889082Z",
     "start_time": "2025-07-25T16:02:27.796607Z"
    }
   },
   "cell_type": "code",
   "source": [
    "for col in non_numeric_columns:\n",
    "    unique_values = df_train[col].nunique()\n",
    "    print(f\"{col}: {unique_values}\")\n"
   ],
   "id": "580825eaa43bd9b2",
   "outputs": [
    {
     "name": "stdout",
     "output_type": "stream",
     "text": [
      "State: 17\n",
      "REGION: 5\n",
      "SEX: 2\n",
      "CITY: 2721\n",
      "DISTRICT: 405\n",
      "VILLAGE: 5650\n",
      "MARITAL_STATUS: 3\n",
      "Location: 30634\n",
      "Address type: 3\n",
      "Ownership: 3\n",
      "K022-Village category based on Agri parameters (Good, Average, Poor): 2\n",
      "K022-Nearest Mandi Name: 890\n",
      "K022-Village category based on socio-economic parameters (Good, Average, Poor): 3\n",
      "K022-Ambient temperature (min & max): 1304\n",
      "R022-Village category based on Agri parameters (Good, Average, Poor): 2\n",
      "R022-Ambient temperature (min & max): 1311\n",
      "K021-Ambient temperature (min & max): 1307\n",
      "R021-Ambient temperature (min & max): 1307\n",
      "R020-Ambient temperature (min & max): 1307\n",
      "Kharif Seasons  Type of soil in 2022: 8\n",
      "Kharif Seasons  Type of water bodies in hectares 2022: 22\n",
      "Kharif Seasons  Agro Ecological Sub Zone in 2022: 12\n",
      "Rabi Seasons Type of soil in 2022: 8\n",
      "Rabi Seasons Type of water bodies in hectares 2022: 22\n",
      "Rabi Seasons Agro Ecological Sub Zone in 2022: 12\n",
      "Rabi Seasons Type of soil in 2021: 8\n",
      "Rabi Seasons Type of water bodies in hectares 2021: 22\n",
      "Rabi Seasons Agro Ecological Sub Zone in 2021: 12\n",
      "Kharif Seasons Type of soil in 2021: 8\n",
      "Kharif Seasons Type of water bodies in hectares 2021: 22\n",
      "Kharif Seasons Agro Ecological Sub Zone in 2021: 12\n",
      "Kharif Seasons Type of soil in 2020: 8\n",
      "Kharif Seasons Type of water bodies in hectares 2020: 22\n",
      "Kharif Seasons Agro Ecological Sub Zone in 2020: 12\n",
      "Rabi Seasons Type of soil in 2020: 8\n",
      "Rabi Seasons Type of water bodies in hectares 2020: 22\n",
      "Rabi Seasons Agro Ecological Sub Zone in 2020: 12\n",
      " Village category based on socio-economic parameters (Good, Average, Poor): 3\n"
     ]
    }
   ],
   "execution_count": 91
  },
  {
   "metadata": {
    "ExecuteTime": {
     "end_time": "2025-07-25T16:10:50.421362Z",
     "start_time": "2025-07-25T16:10:50.296854Z"
    }
   },
   "cell_type": "code",
   "source": [
    "value_counts = {}\n",
    "for col in df_train.columns:\n",
    "    value_counts[col] = df_train[col].nunique()\n",
    "\n",
    "low_unique = pd.Series(value_counts)\n",
    "low_unique = low_unique[low_unique < 20].sort_values()\n",
    "\n",
    "print(\"Columns with less than 20 unique values:\")\n",
    "for col, count in low_unique.items():\n",
    "    print(f\"{col}: {count} unique values\")"
   ],
   "id": "5db09363dad22375",
   "outputs": [
    {
     "name": "stdout",
     "output_type": "stream",
     "text": [
      "Columns with less than 20 unique values:\n",
      "SEX: 2 unique values\n",
      "K022-Village category based on Agri parameters (Good, Average, Poor): 2 unique values\n",
      "R022-Village category based on Agri parameters (Good, Average, Poor): 2 unique values\n",
      "Address type: 3 unique values\n",
      "Ownership: 3 unique values\n",
      "K022-Village category based on socio-economic parameters (Good, Average, Poor): 3 unique values\n",
      "MARITAL_STATUS: 3 unique values\n",
      " Village category based on socio-economic parameters (Good, Average, Poor): 3 unique values\n",
      "REGION: 5 unique values\n",
      "Kharif Seasons Type of soil in 2021: 8 unique values\n",
      "Rabi Seasons Type of soil in 2022: 8 unique values\n",
      "Kharif Seasons  Type of soil in 2022: 8 unique values\n",
      "Kharif Seasons Type of soil in 2020: 8 unique values\n",
      "Rabi Seasons Type of soil in 2020: 8 unique values\n",
      "Rabi Seasons Type of soil in 2021: 8 unique values\n",
      "Rabi Seasons Agro Ecological Sub Zone in 2022: 12 unique values\n",
      "Kharif Seasons Agro Ecological Sub Zone in 2020: 12 unique values\n",
      "Rabi Seasons Agro Ecological Sub Zone in 2021: 12 unique values\n",
      "Kharif Seasons  Agro Ecological Sub Zone in 2022: 12 unique values\n",
      "Kharif Seasons Agro Ecological Sub Zone in 2021: 12 unique values\n",
      "Rabi Seasons Agro Ecological Sub Zone in 2020: 12 unique values\n",
      "State: 17 unique values\n"
     ]
    }
   ],
   "execution_count": 92
  },
  {
   "metadata": {
    "ExecuteTime": {
     "end_time": "2025-07-25T16:11:32.673995Z",
     "start_time": "2025-07-25T16:11:32.640119Z"
    }
   },
   "cell_type": "code",
   "source": [
    "for col in low_unique.index:\n",
    "    print(f\"\\nUnique values and their counts in {col}:\")\n",
    "    value_counts = df_train[col].value_counts()\n",
    "    for val, count in value_counts.items():\n",
    "        print(f\"{val}: {count} records\")\n"
   ],
   "id": "9d7906706e241037",
   "outputs": [
    {
     "name": "stdout",
     "output_type": "stream",
     "text": [
      "\n",
      "Unique values and their counts in SEX:\n",
      "M: 43295 records\n",
      "F: 4675 records\n",
      "\n",
      "Unique values and their counts in K022-Village category based on Agri parameters (Good, Average, Poor):\n",
      "Poor: 36513 records\n",
      "Average: 11457 records\n",
      "\n",
      "Unique values and their counts in R022-Village category based on Agri parameters (Good, Average, Poor):\n",
      "Poor: 41480 records\n",
      "Average: 6490 records\n",
      "\n",
      "Unique values and their counts in Address type:\n",
      "Permanent Address: 26213 records\n",
      "Current Address: 3964 records\n",
      "Both Addresses: 763 records\n",
      "\n",
      "Unique values and their counts in Ownership:\n",
      "Owned: 29462 records\n",
      "Parental: 1469 records\n",
      "Rented: 9 records\n",
      "\n",
      "Unique values and their counts in K022-Village category based on socio-economic parameters (Good, Average, Poor):\n",
      "Poor: 29221 records\n",
      "Average: 17824 records\n",
      "Good: 925 records\n",
      "\n",
      "Unique values and their counts in MARITAL_STATUS:\n",
      "M: 44168 records\n",
      "S: 3798 records\n",
      "NK: 4 records\n",
      "\n",
      "Unique values and their counts in  Village category based on socio-economic parameters (Good, Average, Poor):\n",
      "Poor: 29221 records\n",
      "Average: 17824 records\n",
      "Good: 925 records\n",
      "\n",
      "Unique values and their counts in REGION:\n",
      "SOUTH: 17829 records\n",
      "CENTRAL: 15030 records\n",
      "WEST: 8469 records\n",
      "NORTH: 3641 records\n",
      "EAST: 3001 records\n",
      "\n",
      "Unique values and their counts in Kharif Seasons Type of soil in 2021:\n",
      "Mixed Red and Black Soils: 16473 records\n",
      "Deep Black soils (with shallow and medium Black Soils as inclusion): 11769 records\n",
      "Shallow Black Soils (with medium and deep Black Soils as  inclusion): 10327 records\n",
      "Red loamy Soils: 4059 records\n",
      "Red and lateritic Soils: 2192 records\n",
      "Coastal and Deltaic Alluvium derived Soils: 1380 records\n",
      "Alluvial-derived Soils (with saline phases): 941 records\n",
      "Desert (saline) Soils: 829 records\n",
      "\n",
      "Unique values and their counts in Rabi Seasons Type of soil in 2022:\n",
      "Mixed Red and Black Soils: 16473 records\n",
      "Deep Black soils (with shallow and medium Black Soils as inclusion): 11769 records\n",
      "Shallow Black Soils (with medium and deep Black Soils as  inclusion): 10327 records\n",
      "Red loamy Soils: 4059 records\n",
      "Red and lateritic Soils: 2192 records\n",
      "Coastal and Deltaic Alluvium derived Soils: 1380 records\n",
      "Alluvial-derived Soils (with saline phases): 941 records\n",
      "Desert (saline) Soils: 829 records\n",
      "\n",
      "Unique values and their counts in Kharif Seasons  Type of soil in 2022:\n",
      "Mixed Red and Black Soils: 16473 records\n",
      "Deep Black soils (with shallow and medium Black Soils as inclusion): 11769 records\n",
      "Shallow Black Soils (with medium and deep Black Soils as  inclusion): 10327 records\n",
      "Red loamy Soils: 4059 records\n",
      "Red and lateritic Soils: 2192 records\n",
      "Coastal and Deltaic Alluvium derived Soils: 1380 records\n",
      "Alluvial-derived Soils (with saline phases): 941 records\n",
      "Desert (saline) Soils: 829 records\n",
      "\n",
      "Unique values and their counts in Kharif Seasons Type of soil in 2020:\n",
      "Mixed Red and Black Soils: 17408 records\n",
      "Deep Black soils (with shallow and medium Black Soils as inclusion): 11480 records\n",
      "Shallow Black Soils (with medium and deep Black Soils as  inclusion): 9525 records\n",
      "Red loamy Soils: 3882 records\n",
      "Red and lateritic Soils: 2624 records\n",
      "Coastal and Deltaic Alluvium derived Soils: 1246 records\n",
      "Alluvial-derived Soils (with saline phases): 969 records\n",
      "Desert (saline) Soils: 836 records\n",
      "\n",
      "Unique values and their counts in Rabi Seasons Type of soil in 2020:\n",
      "Mixed Red and Black Soils: 16473 records\n",
      "Deep Black soils (with shallow and medium Black Soils as inclusion): 11769 records\n",
      "Shallow Black Soils (with medium and deep Black Soils as  inclusion): 10327 records\n",
      "Red loamy Soils: 4059 records\n",
      "Red and lateritic Soils: 2192 records\n",
      "Coastal and Deltaic Alluvium derived Soils: 1380 records\n",
      "Alluvial-derived Soils (with saline phases): 941 records\n",
      "Desert (saline) Soils: 829 records\n",
      "\n",
      "Unique values and their counts in Rabi Seasons Type of soil in 2021:\n",
      "Mixed Red and Black Soils: 16473 records\n",
      "Deep Black soils (with shallow and medium Black Soils as inclusion): 11769 records\n",
      "Shallow Black Soils (with medium and deep Black Soils as  inclusion): 10327 records\n",
      "Red loamy Soils: 4059 records\n",
      "Red and lateritic Soils: 2192 records\n",
      "Coastal and Deltaic Alluvium derived Soils: 1380 records\n",
      "Alluvial-derived Soils (with saline phases): 941 records\n",
      "Desert (saline) Soils: 829 records\n",
      "\n",
      "Unique values and their counts in Rabi Seasons Agro Ecological Sub Zone in 2022:\n",
      "CENTRAL HIGHLANDS (MALWA AND BUNDELKHAND)  HOT SUBHUMID (DRY) ECO-REGION: 13475 records\n",
      "DECCAN PLATU  HOT SEMI-ARID ECO-REGION: 10584 records\n",
      "DECCAN PLATEAU  (TELANGANA) AND EASTERN GHATS  HOT SEMI ARID ECO-REGION: 8138 records\n",
      "EASTERN GHATS AND TAMIL NADU UPLANDS AND DECCAN (K ARNATAKA) PLATEAU  HOT SEMI-ARID ECO-REGION: 4059 records\n",
      "CENTRAL HIGHLANDS ( MALWA )  GUJARAT PLAIN AND KATHIAWAR PENINSULA  SEMI-ARID ECO-REGION: 2942 records\n",
      "NORTHERN PLAIN (AND CENTRAL HIGHLANDS) INCLUDING ARAVALLIS  HOT SEMI-ARID EGO-REGION: 2651 records\n",
      "EASTERN PLATEAU (CHHOTANAGPUR) AND EASTERN GHATS  HOT SUBHUMID ECO-REGION: 2033 records\n",
      "KARNATAKA PLATEAU (RAYALSEEMA AS INCLUSION): 1613 records\n",
      "EASTERN COASTAL PLAIN  HOT SUBHUMID TO SEMI-ARID EGO-REGION: 1380 records\n",
      "WESTERN PLAIN  KACHCHH AND PART OF KATHIAWAR PENINSULA, HOT ARID ECO-REGION: 829 records\n",
      "WESTERN GHATS AND COASTAL PLAIN  HOT HUMID-PERHUMID ECO-REGION: 159 records\n",
      "NORTHERN PLAIN  HOT SUBHUMID (DRY) ECO-REGION: 107 records\n",
      "\n",
      "Unique values and their counts in Kharif Seasons Agro Ecological Sub Zone in 2020:\n",
      "CENTRAL HIGHLANDS (MALWA AND BUNDELKHAND)  HOT SUBHUMID (DRY) ECO-REGION: 13199 records\n",
      "DECCAN PLATU  HOT SEMI-ARID ECO-REGION: 9224 records\n",
      "DECCAN PLATEAU  (TELANGANA) AND EASTERN GHATS  HOT SEMI ARID ECO-REGION: 8613 records\n",
      "EASTERN GHATS AND TAMIL NADU UPLANDS AND DECCAN (K ARNATAKA) PLATEAU  HOT SEMI-ARID ECO-REGION: 3882 records\n",
      "NORTHERN PLAIN (AND CENTRAL HIGHLANDS) INCLUDING ARAVALLIS  HOT SEMI-ARID EGO-REGION: 3232 records\n",
      "CENTRAL HIGHLANDS ( MALWA )  GUJARAT PLAIN AND KATHIAWAR PENINSULA  SEMI-ARID ECO-REGION: 3198 records\n",
      "EASTERN PLATEAU (CHHOTANAGPUR) AND EASTERN GHATS  HOT SUBHUMID ECO-REGION: 2373 records\n",
      "KARNATAKA PLATEAU (RAYALSEEMA AS INCLUSION): 1800 records\n",
      "EASTERN COASTAL PLAIN  HOT SUBHUMID TO SEMI-ARID EGO-REGION: 1246 records\n",
      "WESTERN PLAIN  KACHCHH AND PART OF KATHIAWAR PENINSULA, HOT ARID ECO-REGION: 836 records\n",
      "WESTERN GHATS AND COASTAL PLAIN  HOT HUMID-PERHUMID ECO-REGION: 251 records\n",
      "NORTHERN PLAIN  HOT SUBHUMID (DRY) ECO-REGION: 116 records\n",
      "\n",
      "Unique values and their counts in Rabi Seasons Agro Ecological Sub Zone in 2021:\n",
      "CENTRAL HIGHLANDS (MALWA AND BUNDELKHAND)  HOT SUBHUMID (DRY) ECO-REGION: 13475 records\n",
      "DECCAN PLATU  HOT SEMI-ARID ECO-REGION: 10584 records\n",
      "DECCAN PLATEAU  (TELANGANA) AND EASTERN GHATS  HOT SEMI ARID ECO-REGION: 8138 records\n",
      "EASTERN GHATS AND TAMIL NADU UPLANDS AND DECCAN (K ARNATAKA) PLATEAU  HOT SEMI-ARID ECO-REGION: 4059 records\n",
      "CENTRAL HIGHLANDS ( MALWA )  GUJARAT PLAIN AND KATHIAWAR PENINSULA  SEMI-ARID ECO-REGION: 2942 records\n",
      "NORTHERN PLAIN (AND CENTRAL HIGHLANDS) INCLUDING ARAVALLIS  HOT SEMI-ARID EGO-REGION: 2651 records\n",
      "EASTERN PLATEAU (CHHOTANAGPUR) AND EASTERN GHATS  HOT SUBHUMID ECO-REGION: 2033 records\n",
      "KARNATAKA PLATEAU (RAYALSEEMA AS INCLUSION): 1613 records\n",
      "EASTERN COASTAL PLAIN  HOT SUBHUMID TO SEMI-ARID EGO-REGION: 1380 records\n",
      "WESTERN PLAIN  KACHCHH AND PART OF KATHIAWAR PENINSULA, HOT ARID ECO-REGION: 829 records\n",
      "WESTERN GHATS AND COASTAL PLAIN  HOT HUMID-PERHUMID ECO-REGION: 159 records\n",
      "NORTHERN PLAIN  HOT SUBHUMID (DRY) ECO-REGION: 107 records\n",
      "\n",
      "Unique values and their counts in Kharif Seasons  Agro Ecological Sub Zone in 2022:\n",
      "CENTRAL HIGHLANDS (MALWA AND BUNDELKHAND)  HOT SUBHUMID (DRY) ECO-REGION: 13475 records\n",
      "DECCAN PLATU  HOT SEMI-ARID ECO-REGION: 10584 records\n",
      "DECCAN PLATEAU  (TELANGANA) AND EASTERN GHATS  HOT SEMI ARID ECO-REGION: 8138 records\n",
      "EASTERN GHATS AND TAMIL NADU UPLANDS AND DECCAN (K ARNATAKA) PLATEAU  HOT SEMI-ARID ECO-REGION: 4059 records\n",
      "CENTRAL HIGHLANDS ( MALWA )  GUJARAT PLAIN AND KATHIAWAR PENINSULA  SEMI-ARID ECO-REGION: 2942 records\n",
      "NORTHERN PLAIN (AND CENTRAL HIGHLANDS) INCLUDING ARAVALLIS  HOT SEMI-ARID EGO-REGION: 2651 records\n",
      "EASTERN PLATEAU (CHHOTANAGPUR) AND EASTERN GHATS  HOT SUBHUMID ECO-REGION: 2033 records\n",
      "KARNATAKA PLATEAU (RAYALSEEMA AS INCLUSION): 1613 records\n",
      "EASTERN COASTAL PLAIN  HOT SUBHUMID TO SEMI-ARID EGO-REGION: 1380 records\n",
      "WESTERN PLAIN  KACHCHH AND PART OF KATHIAWAR PENINSULA, HOT ARID ECO-REGION: 829 records\n",
      "WESTERN GHATS AND COASTAL PLAIN  HOT HUMID-PERHUMID ECO-REGION: 159 records\n",
      "NORTHERN PLAIN  HOT SUBHUMID (DRY) ECO-REGION: 107 records\n",
      "\n",
      "Unique values and their counts in Kharif Seasons Agro Ecological Sub Zone in 2021:\n",
      "CENTRAL HIGHLANDS (MALWA AND BUNDELKHAND)  HOT SUBHUMID (DRY) ECO-REGION: 13475 records\n",
      "DECCAN PLATU  HOT SEMI-ARID ECO-REGION: 10584 records\n",
      "DECCAN PLATEAU  (TELANGANA) AND EASTERN GHATS  HOT SEMI ARID ECO-REGION: 8138 records\n",
      "EASTERN GHATS AND TAMIL NADU UPLANDS AND DECCAN (K ARNATAKA) PLATEAU  HOT SEMI-ARID ECO-REGION: 4059 records\n",
      "CENTRAL HIGHLANDS ( MALWA )  GUJARAT PLAIN AND KATHIAWAR PENINSULA  SEMI-ARID ECO-REGION: 2942 records\n",
      "NORTHERN PLAIN (AND CENTRAL HIGHLANDS) INCLUDING ARAVALLIS  HOT SEMI-ARID EGO-REGION: 2651 records\n",
      "EASTERN PLATEAU (CHHOTANAGPUR) AND EASTERN GHATS  HOT SUBHUMID ECO-REGION: 2033 records\n",
      "KARNATAKA PLATEAU (RAYALSEEMA AS INCLUSION): 1613 records\n",
      "EASTERN COASTAL PLAIN  HOT SUBHUMID TO SEMI-ARID EGO-REGION: 1380 records\n",
      "WESTERN PLAIN  KACHCHH AND PART OF KATHIAWAR PENINSULA, HOT ARID ECO-REGION: 829 records\n",
      "WESTERN GHATS AND COASTAL PLAIN  HOT HUMID-PERHUMID ECO-REGION: 159 records\n",
      "NORTHERN PLAIN  HOT SUBHUMID (DRY) ECO-REGION: 107 records\n",
      "\n",
      "Unique values and their counts in Rabi Seasons Agro Ecological Sub Zone in 2020:\n",
      "CENTRAL HIGHLANDS (MALWA AND BUNDELKHAND)  HOT SUBHUMID (DRY) ECO-REGION: 13475 records\n",
      "DECCAN PLATU  HOT SEMI-ARID ECO-REGION: 10584 records\n",
      "DECCAN PLATEAU  (TELANGANA) AND EASTERN GHATS  HOT SEMI ARID ECO-REGION: 8138 records\n",
      "EASTERN GHATS AND TAMIL NADU UPLANDS AND DECCAN (K ARNATAKA) PLATEAU  HOT SEMI-ARID ECO-REGION: 4059 records\n",
      "CENTRAL HIGHLANDS ( MALWA )  GUJARAT PLAIN AND KATHIAWAR PENINSULA  SEMI-ARID ECO-REGION: 2942 records\n",
      "NORTHERN PLAIN (AND CENTRAL HIGHLANDS) INCLUDING ARAVALLIS  HOT SEMI-ARID EGO-REGION: 2651 records\n",
      "EASTERN PLATEAU (CHHOTANAGPUR) AND EASTERN GHATS  HOT SUBHUMID ECO-REGION: 2033 records\n",
      "KARNATAKA PLATEAU (RAYALSEEMA AS INCLUSION): 1613 records\n",
      "EASTERN COASTAL PLAIN  HOT SUBHUMID TO SEMI-ARID EGO-REGION: 1380 records\n",
      "WESTERN PLAIN  KACHCHH AND PART OF KATHIAWAR PENINSULA, HOT ARID ECO-REGION: 829 records\n",
      "WESTERN GHATS AND COASTAL PLAIN  HOT HUMID-PERHUMID ECO-REGION: 159 records\n",
      "NORTHERN PLAIN  HOT SUBHUMID (DRY) ECO-REGION: 107 records\n",
      "\n",
      "Unique values and their counts in State:\n",
      "MADHYA PRADESH: 14320 records\n",
      "MAHARASHTRA: 7834 records\n",
      "TELANGANA: 7098 records\n",
      "KARNATAKA: 6746 records\n",
      "ANDHRA PRADESH: 3985 records\n",
      "UTTAR PRADESH: 2393 records\n",
      "BIHAR: 1265 records\n",
      "HARYANA: 982 records\n",
      "ODISHA: 891 records\n",
      "CHATTISGARH: 799 records\n",
      "WEST BENGAL: 593 records\n",
      "GUJARAT: 546 records\n",
      "PUNJAB: 243 records\n",
      "JHARKHAND: 211 records\n",
      "ASSAM: 41 records\n",
      "CHANDIGARH: 21 records\n",
      "RAJASTHAN: 2 records\n"
     ]
    }
   ],
   "execution_count": 93
  },
  {
   "metadata": {},
   "cell_type": "code",
   "outputs": [],
   "execution_count": null,
   "source": "",
   "id": "c7fbb075cc18dacd"
  },
  {
   "metadata": {},
   "cell_type": "code",
   "outputs": [],
   "execution_count": null,
   "source": "",
   "id": "126e1d772bf54bd6"
  },
  {
   "metadata": {
    "ExecuteTime": {
     "end_time": "2025-07-25T16:41:05.053613Z",
     "start_time": "2025-07-25T16:41:05.027726Z"
    }
   },
   "cell_type": "code",
   "source": [
    "ordered_string_columns = [\"K022-Village category based on Agri parameters (Good, Average, Poor)\",\n",
    "                          \"R022-Village category based on Agri parameters (Good, Average, Poor)\",\n",
    "                          \"K022-Village category based on socio-economic parameters (Good, Average, Poor)\",\n",
    "                          \" Village category based on socio-economic parameters (Good, Average, Poor)\"]\n",
    "\n",
    "for col in ordered_string_columns:\n",
    "    #df_train[col] = df_train_old[col]\n",
    "    #df_test[col] = df_test_old[col]\n",
    "    print(df_train[col].dtype)\n",
    "    df_train[col] = df_train[col].astype(str).str.strip()\n",
    "    df_test[col] = df_test[col].astype(str).str.strip()\n",
    "    print(df_train[col].dtype)"
   ],
   "id": "11a131ccb5e1cc84",
   "outputs": [
    {
     "name": "stdout",
     "output_type": "stream",
     "text": [
      "object\n",
      "object\n",
      "object\n",
      "object\n",
      "object\n",
      "object\n",
      "object\n",
      "object\n"
     ]
    }
   ],
   "execution_count": 137
  },
  {
   "metadata": {
    "ExecuteTime": {
     "end_time": "2025-07-25T16:41:34.832374Z",
     "start_time": "2025-07-25T16:41:34.769643Z"
    }
   },
   "cell_type": "code",
   "source": [
    "\"\"\"from sklearn.preprocessing import OrdinalEncoder\n",
    "\n",
    "# Create ordinal encoder\n",
    "ord_encoder = OrdinalEncoder(\n",
    "    categories=[[\"Poor\", \"Average\", \"Good\"]] * len(ordered_string_columns),\n",
    ")\n",
    "\n",
    "for col in ordered_string_columns:\n",
    "    train_unique = set(df_train[col].dropna().unique())\n",
    "    test_unique = set(df_test[col].dropna().unique())\n",
    "    if not test_unique.issubset(train_unique):\n",
    "        print(f\"⚠️ Unexpected category in test column: {col}\")\n",
    "\n",
    "# Fit and transform the training data\n",
    "df_train[ordered_string_columns] = ord_encoder.fit_transform(df_train[ordered_string_columns])\n",
    "\n",
    "# Transform the test data using the same encoder\n",
    "df_test[ordered_string_columns] = ord_encoder.transform(df_test[ordered_string_columns])\"\"\""
   ],
   "id": "493b4209748d565f",
   "outputs": [],
   "execution_count": 138
  },
  {
   "metadata": {},
   "cell_type": "markdown",
   "source": "Applied ordinal encoding to convert ordered categorical values in the specified columns to numerical values. The encoding preserves the ordinal relationship between categories (e.g. Good > Average > Poor).",
   "id": "b19087f643dd0fd4"
  },
  {
   "metadata": {
    "ExecuteTime": {
     "end_time": "2025-07-25T16:41:38.261141Z",
     "start_time": "2025-07-25T16:41:38.255799Z"
    }
   },
   "cell_type": "code",
   "source": [
    "# Verify the encoding\n",
    "for col in ordered_string_columns:\n",
    "    print(f\"\\nUnique values in {col} after encoding:\")\n",
    "    print(df_train[col].unique())\n"
   ],
   "id": "f5f29d9bb3664dc1",
   "outputs": [
    {
     "name": "stdout",
     "output_type": "stream",
     "text": [
      "\n",
      "Unique values in K022-Village category based on Agri parameters (Good, Average, Poor) after encoding:\n",
      "[0. 1.]\n",
      "\n",
      "Unique values in R022-Village category based on Agri parameters (Good, Average, Poor) after encoding:\n",
      "[0. 1.]\n",
      "\n",
      "Unique values in K022-Village category based on socio-economic parameters (Good, Average, Poor) after encoding:\n",
      "[0. 1. 2.]\n",
      "\n",
      "Unique values in  Village category based on socio-economic parameters (Good, Average, Poor) after encoding:\n",
      "[0. 1. 2.]\n"
     ]
    }
   ],
   "execution_count": 139
  },
  {
   "metadata": {},
   "cell_type": "code",
   "outputs": [],
   "execution_count": null,
   "source": "",
   "id": "7676ce941deaef5b"
  }
 ],
 "metadata": {
  "kernelspec": {
   "display_name": "Python 3",
   "language": "python",
   "name": "python3"
  },
  "language_info": {
   "codemirror_mode": {
    "name": "ipython",
    "version": 2
   },
   "file_extension": ".py",
   "mimetype": "text/x-python",
   "name": "python",
   "nbconvert_exporter": "python",
   "pygments_lexer": "ipython2",
   "version": "2.7.6"
  }
 },
 "nbformat": 4,
 "nbformat_minor": 5
}
